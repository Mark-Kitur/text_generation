{
 "cells": [
  {
   "cell_type": "code",
<<<<<<< HEAD
   "execution_count": null,
   "id": "75a04733",
   "metadata": {},
   "outputs": [],
   "source": [
    "config ={\n",
    "    'epochs': 50,\n",
    "    'batch_size':32,\n",
    "    'lr':0.001,\n",
    "    'd_model':512,\n",
    "    'num_heads':8,\n",
    "    'd_ff': 2048,\n",
    "    'num_layers':6,\n",
    "    'vocab_size': 5000,\n",
    "    'checkpoint_path':\"model.pth\",\n",
    "    'dropout':0.01,\n",
    "    'device':'device'\n",
    "}"
   ]
  },
  {
   "cell_type": "markdown",
   "id": "a33340a6",
   "metadata": {},
   "source": [
    "# Tokenization"
   ]
  },
  {
   "cell_type": "code",
   "execution_count": 71,
   "id": "2505618a",
   "metadata": {},
   "outputs": [],
   "source": [
    "from collections import Counter\n",
    "import re\n",
=======
   "execution_count": 1,
   "id": "a9a5b043",
   "metadata": {
    "_cell_guid": "b1076dfc-b9ad-4769-8c92-a6c4dae69d19",
    "_uuid": "8f2839f25d086af736a60e9eeb907d3b93b6e0e5",
    "execution": {
     "iopub.execute_input": "2025-09-23T07:15:14.155567Z",
     "iopub.status.busy": "2025-09-23T07:15:14.155238Z",
     "iopub.status.idle": "2025-09-23T07:15:16.054967Z",
     "shell.execute_reply": "2025-09-23T07:15:16.053900Z"
    },
    "papermill": {
     "duration": 1.904442,
     "end_time": "2025-09-23T07:15:16.056736",
     "exception": false,
     "start_time": "2025-09-23T07:15:14.152294",
     "status": "completed"
    },
    "tags": []
   },
   "outputs": [],
   "source": [
    "# This Python 3 environment comes with many helpful analytics libraries installed\n",
    "# It is defined by the kaggle/python Docker image: https://github.com/kaggle/docker-python\n",
    "# For example, here's several helpful packages to load\n",
>>>>>>> 1346df85f2fc378c85740f454321bf117af35746
    "\n",
    "import numpy as np # linear algebra\n",
    "import pandas as pd # data processing, CSV file I/O (e.g. pd.read_csv)\n",
    "\n",
    "# Input data files are available in the read-only \"../input/\" directory\n",
    "# For example, running this (by clicking run or pressing Shift+Enter) will list all files under the input directory\n",
    "\n",
    "import os\n",
    "for dirname, _, filenames in os.walk('/kaggle/input'):\n",
    "    for filename in filenames:\n",
    "        print(os.path.join(dirname, filename))\n",
    "\n",
    "# You can write up to 20GB to the current directory (/kaggle/working/) that gets preserved as output when you create a version using \"Save & Run All\" \n",
    "# You can also write temporary files to /kaggle/temp/, but they won't be saved outside of the current session"
   ]
  }
 ],
 "metadata": {
  "kaggle": {
   "accelerator": "none",
   "dataSources": [],
   "dockerImageVersionId": 31089,
   "isGpuEnabled": false,
   "isInternetEnabled": true,
   "language": "python",
   "sourceType": "notebook"
  },
  "kernelspec": {
   "display_name": "Python 3",
   "language": "python",
   "name": "python3"
  },
  "language_info": {
   "codemirror_mode": {
    "name": "ipython",
    "version": 3
   },
   "file_extension": ".py",
   "mimetype": "text/x-python",
   "name": "python",
   "nbconvert_exporter": "python",
   "pygments_lexer": "ipython3",
   "version": "3.11.13"
  },
  "papermill": {
   "default_parameters": {},
   "duration": 10.643526,
   "end_time": "2025-09-23T07:15:19.405896",
   "environment_variables": {},
   "exception": null,
   "input_path": "__notebook__.ipynb",
   "output_path": "__notebook__.ipynb",
   "parameters": {},
   "start_time": "2025-09-23T07:15:08.762370",
   "version": "2.6.0"
  }
 },
 "nbformat": 4,
 "nbformat_minor": 5
}
